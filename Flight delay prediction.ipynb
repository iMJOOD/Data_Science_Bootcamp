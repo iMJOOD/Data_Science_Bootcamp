{
 "cells": [
  {
   "cell_type": "markdown",
   "id": "2bcdc793",
   "metadata": {},
   "source": [
    "# Flight Delay Prediction\n",
    "\n",
    "the goal of this project is to predict the flight that will be delayed for over 15 mins in January for US flights.\n",
    "\n",
    "We will read the data first and remove unneeded features, hence the data contains the diverted and cancelled flights."
   ]
  },
  {
   "cell_type": "code",
   "execution_count": 2,
   "id": "b720ba63",
   "metadata": {},
   "outputs": [],
   "source": [
    "#importing libraries that we will using during this project\n",
    "import numpy as np\n",
    "import pandas as pd"
   ]
  },
  {
   "cell_type": "markdown",
   "id": "969d09d2",
   "metadata": {},
   "source": [
    "We will import flights data for January 2019 and January 2020, then we will concatenate dataframes together"
   ]
  },
  {
   "cell_type": "code",
   "execution_count": 9,
   "id": "f9c14831",
   "metadata": {},
   "outputs": [],
   "source": [
    "#reading data and assign it to variables\n",
    "jan19data = pd.read_csv('data/Jan_2019_ontime.csv')\n",
    "jan20data = pd.read_csv('data/Jan_2020_ontime.csv')\n",
    "\n",
    "#concatenate dataframes \n",
    "df = pd.concat([jan19data , jan20data])"
   ]
  },
  {
   "cell_type": "code",
   "execution_count": 10,
   "id": "fd1ca3a2",
   "metadata": {},
   "outputs": [
    {
     "name": "stdout",
     "output_type": "stream",
     "text": [
      "<class 'pandas.core.frame.DataFrame'>\n",
      "Int64Index: 1191331 entries, 0 to 607345\n",
      "Data columns (total 22 columns):\n",
      " #   Column                 Non-Null Count    Dtype  \n",
      "---  ------                 --------------    -----  \n",
      " 0   DAY_OF_MONTH           1191331 non-null  int64  \n",
      " 1   DAY_OF_WEEK            1191331 non-null  int64  \n",
      " 2   OP_UNIQUE_CARRIER      1191331 non-null  object \n",
      " 3   OP_CARRIER_AIRLINE_ID  1191331 non-null  int64  \n",
      " 4   OP_CARRIER             1191331 non-null  object \n",
      " 5   TAIL_NUM               1188090 non-null  object \n",
      " 6   OP_CARRIER_FL_NUM      1191331 non-null  int64  \n",
      " 7   ORIGIN_AIRPORT_ID      1191331 non-null  int64  \n",
      " 8   ORIGIN_AIRPORT_SEQ_ID  1191331 non-null  int64  \n",
      " 9   ORIGIN                 1191331 non-null  object \n",
      " 10  DEST_AIRPORT_ID        1191331 non-null  int64  \n",
      " 11  DEST_AIRPORT_SEQ_ID    1191331 non-null  int64  \n",
      " 12  DEST                   1191331 non-null  object \n",
      " 13  DEP_TIME               1168315 non-null  float64\n",
      " 14  DEP_DEL15              1168277 non-null  float64\n",
      " 15  DEP_TIME_BLK           1191331 non-null  object \n",
      " 16  ARR_TIME               1167195 non-null  float64\n",
      " 17  ARR_DEL15              1165231 non-null  float64\n",
      " 18  CANCELLED              1191331 non-null  float64\n",
      " 19  DIVERTED               1191331 non-null  float64\n",
      " 20  DISTANCE               1191331 non-null  float64\n",
      " 21  Unnamed: 21            0 non-null        float64\n",
      "dtypes: float64(8), int64(8), object(6)\n",
      "memory usage: 209.1+ MB\n"
     ]
    }
   ],
   "source": [
    "df.info()"
   ]
  },
  {
   "cell_type": "markdown",
   "id": "155b6f9a",
   "metadata": {},
   "source": [
    "# Data Summary\n",
    "our data now have 22 columns and 1191331 rows\n",
    "\n",
    "## dataframe columns will use (14 columns):\n",
    "\n",
    "* 'DAY_OF_MONTH': day of month.\n",
    "* 'DAY_OF_WEEK': day number starting from monday.\n",
    "* 'OP_UNIQUE_CARRIER': carrier identifier.\n",
    "* 'TAIL_NUM': tail number.\n",
    "* 'OP_CARRIER_FL_NUM': flight number.\n",
    "* 'DEP_TIME_BLK': 24h time chunks.\n",
    "* 'ORIGIN': departure airport identifier.\n",
    "* 'DEST': destination airport identfier.\n",
    "* 'DEP_TIME': actual departure time.\n",
    "* 'DEP_DEL15': departure Delay Indicator, 15 Minutes or More. boolean\n",
    "* 'DEP_TIME_BLK': departure Time Block, hourly intervals.\n",
    "* 'ARR_TIME': actual arrival time.\n",
    "* 'ARR_DEL15': arrival delay indicator, 15 Minutes or More. boolean\n",
    "* 'DISTANCE': flight length.\n",
    "\n",
    "\n",
    "## columns will drop (6 columns):\n",
    "* 'OP_CARRIER_AIRLINE_ID': \n",
    "* 'OP_CARRIER':\n",
    "* 'ORIGIN_AIRPORT_SEQ_ID':\n",
    "* 'DEST_AIRPORT_SEQ_ID':\n",
    "* 'CANCELLED':\n",
    "* 'DIVERTED':\n",
    "\n"
   ]
  },
  {
   "cell_type": "markdown",
   "id": "94959b3a",
   "metadata": {},
   "source": [
    "We will start by droping unneeded columns"
   ]
  },
  {
   "cell_type": "code",
   "execution_count": null,
   "id": "cc64e9ac",
   "metadata": {},
   "outputs": [],
   "source": []
  }
 ],
 "metadata": {
  "kernelspec": {
   "display_name": "Python 3",
   "language": "python",
   "name": "python3"
  },
  "language_info": {
   "codemirror_mode": {
    "name": "ipython",
    "version": 3
   },
   "file_extension": ".py",
   "mimetype": "text/x-python",
   "name": "python",
   "nbconvert_exporter": "python",
   "pygments_lexer": "ipython3",
   "version": "3.8.8"
  }
 },
 "nbformat": 4,
 "nbformat_minor": 5
}
